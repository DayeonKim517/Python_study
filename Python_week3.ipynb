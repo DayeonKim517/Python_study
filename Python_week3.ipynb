{
  "nbformat": 4,
  "nbformat_minor": 0,
  "metadata": {
    "colab": {
      "provenance": []
    },
    "kernelspec": {
      "name": "python3",
      "display_name": "Python 3"
    },
    "language_info": {
      "name": "python"
    }
  },
  "cells": [
    {
      "cell_type": "markdown",
      "source": [
        "딕셔너리\n",
        "key, value (키,값)\n",
        "- 리스트와 같은 자료형\n",
        "- 딕셔너리 = {키1:값1, 키2:값2}\n",
        "- 딕셔너리는 중괄호 사용"
      ],
      "metadata": {
        "id": "Z6BGaKiI890b"
      }
    },
    {
      "cell_type": "code",
      "source": [
        "a1 = {'주민번호':123456, '이름':'000', '성적':'A'}\n",
        "print(a1)"
      ],
      "metadata": {
        "colab": {
          "base_uri": "https://localhost:8080/"
        },
        "id": "79rdXLw_898C",
        "outputId": "aaaeb65a-46aa-4fe5-e29d-0aeee16fdae5"
      },
      "execution_count": null,
      "outputs": [
        {
          "output_type": "stream",
          "name": "stdout",
          "text": [
            "{'주민번호': 123456, '이름': '000', '성적': 'A'}\n"
          ]
        }
      ]
    },
    {
      "cell_type": "markdown",
      "source": [
        "- 키와 값이 1:1 대응으로 되어있다."
      ],
      "metadata": {
        "id": "8484idEX9uPo"
      }
    },
    {
      "cell_type": "code",
      "source": [
        "a2 = {'주민번호':123456, '이름':'000', '성적':['A','B'], True: '1'}\n",
        "print(a2)"
      ],
      "metadata": {
        "colab": {
          "base_uri": "https://localhost:8080/"
        },
        "id": "DPcQCGfa8_v0",
        "outputId": "a0e5b352-edbe-4040-fa08-604c3eb83306"
      },
      "execution_count": null,
      "outputs": [
        {
          "output_type": "stream",
          "name": "stdout",
          "text": [
            "{'주민번호': 123456, '이름': '000', '성적': ['A', 'B'], True: '1'}\n"
          ]
        }
      ]
    },
    {
      "cell_type": "markdown",
      "source": [
        "딕셔너리 만드는 법\n",
        "- {} 빈 딕셔너리를 만들기\n",
        "- dict()\n",
        "- 딕셔너리 형태를 사용하는 로직의 경우 제외하곤 사용하는거 본적 없음"
      ],
      "metadata": {
        "id": "1Q-seAl895zk"
      }
    },
    {
      "cell_type": "markdown",
      "source": [
        "딕셔너리 접근 방법\n",
        "- 키로 접근\n",
        "- 딕셔너리[키] = 값 할당이 된다.\n",
        "- 리스트와 다르게 딕셔너리는 키를 잡고 값을 할당"
      ],
      "metadata": {
        "id": "H6gMwx-H-GSR"
      }
    },
    {
      "cell_type": "code",
      "source": [
        "a2['주민번호'] = 654321\n",
        "print(a2)"
      ],
      "metadata": {
        "colab": {
          "base_uri": "https://localhost:8080/"
        },
        "id": "pNmdsRQp8_xo",
        "outputId": "62c0d5ed-a11d-4533-87fb-645bcda88c98"
      },
      "execution_count": null,
      "outputs": [
        {
          "output_type": "stream",
          "name": "stdout",
          "text": [
            "{'주민번호': 654321, '이름': '000', '성적': ['A', 'B'], True: '1'}\n"
          ]
        }
      ]
    },
    {
      "cell_type": "markdown",
      "source": [
        "- in 함수도 사용 가능"
      ],
      "metadata": {
        "id": "1MfqH5W6-TZs"
      }
    },
    {
      "cell_type": "code",
      "source": [
        "'주민번호' in a2"
      ],
      "metadata": {
        "colab": {
          "base_uri": "https://localhost:8080/"
        },
        "id": "8P0qRbnx-RbC",
        "outputId": "96678183-ea8f-4ad7-be10-7b1fce037e81"
      },
      "execution_count": null,
      "outputs": [
        {
          "output_type": "execute_result",
          "data": {
            "text/plain": [
              "True"
            ]
          },
          "metadata": {},
          "execution_count": 4
        }
      ]
    },
    {
      "cell_type": "code",
      "source": [
        "'주민' in a2"
      ],
      "metadata": {
        "colab": {
          "base_uri": "https://localhost:8080/"
        },
        "id": "M4NWo4Jd-WyX",
        "outputId": "0c5cf6c9-8999-44ed-c6e1-9812fe1d898a"
      },
      "execution_count": null,
      "outputs": [
        {
          "output_type": "execute_result",
          "data": {
            "text/plain": [
              "False"
            ]
          },
          "metadata": {},
          "execution_count": 5
        }
      ]
    },
    {
      "cell_type": "markdown",
      "source": [
        "- 딕셔너리는 기본적으로 key를 메인으로 한다."
      ],
      "metadata": {
        "id": "12qWJpEK-ZVB"
      }
    },
    {
      "cell_type": "code",
      "source": [
        "print(len(a2))"
      ],
      "metadata": {
        "colab": {
          "base_uri": "https://localhost:8080/"
        },
        "id": "i2XI61-G-YU5",
        "outputId": "36957a42-11a6-4515-ccf5-665f8d604cda"
      },
      "execution_count": null,
      "outputs": [
        {
          "output_type": "stream",
          "name": "stdout",
          "text": [
            "4\n"
          ]
        }
      ]
    },
    {
      "cell_type": "markdown",
      "source": [
        "- items : 키-값 쌍으로 가져옴\n",
        "- keys : 키값만 가져옴\n",
        "- values : 값만 가져옴"
      ],
      "metadata": {
        "id": "_kdahNb6-iTe"
      }
    },
    {
      "cell_type": "code",
      "source": [
        "x = {'a':5,'b':10,'c':15}"
      ],
      "metadata": {
        "id": "suCRc98s-eFw"
      },
      "execution_count": null,
      "outputs": []
    },
    {
      "cell_type": "code",
      "source": [
        "x.items()"
      ],
      "metadata": {
        "colab": {
          "base_uri": "https://localhost:8080/"
        },
        "id": "nPKJrmLL-rey",
        "outputId": "a5ed1979-a61b-40fc-b682-a7ae01c59273"
      },
      "execution_count": null,
      "outputs": [
        {
          "output_type": "execute_result",
          "data": {
            "text/plain": [
              "dict_items([('a', 5), ('b', 10), ('c', 15)])"
            ]
          },
          "metadata": {},
          "execution_count": 8
        }
      ]
    },
    {
      "cell_type": "code",
      "source": [
        "list(x.keys())"
      ],
      "metadata": {
        "colab": {
          "base_uri": "https://localhost:8080/"
        },
        "id": "WUtAWJCE-sbT",
        "outputId": "cf388b16-3696-450d-eee6-619efcaf7324"
      },
      "execution_count": null,
      "outputs": [
        {
          "output_type": "execute_result",
          "data": {
            "text/plain": [
              "['a', 'b', 'c']"
            ]
          },
          "metadata": {},
          "execution_count": 9
        }
      ]
    },
    {
      "cell_type": "code",
      "source": [
        "# 반복문으로 가져옴\n",
        "for i in x.values():\n",
        "    print(i)"
      ],
      "metadata": {
        "colab": {
          "base_uri": "https://localhost:8080/"
        },
        "id": "B8osFX_B-uli",
        "outputId": "a285c466-5bde-48cd-a347-c111435e04ab"
      },
      "execution_count": null,
      "outputs": [
        {
          "output_type": "stream",
          "name": "stdout",
          "text": [
            "5\n",
            "10\n",
            "15\n"
          ]
        }
      ]
    },
    {
      "cell_type": "markdown",
      "source": [
        "set 함수\n",
        "- 집합의 개념 및 중복 제거\n",
        "- set = {} 형태\n",
        "- 키와 값 형태가 아닌 그냥 값\n",
        "- set ={값,값,값}"
      ],
      "metadata": {
        "id": "4WMqlOH8-5SC"
      }
    },
    {
      "cell_type": "code",
      "source": [
        "y = ['a','b','c','d','c','b','a']"
      ],
      "metadata": {
        "id": "O5yddYyY-4JQ"
      },
      "execution_count": null,
      "outputs": []
    },
    {
      "cell_type": "code",
      "source": [
        "print(y)\n",
        "print(set(y))"
      ],
      "metadata": {
        "colab": {
          "base_uri": "https://localhost:8080/"
        },
        "id": "he93w5wR_FwW",
        "outputId": "8890878b-516a-4ffb-a82c-5cae0f774128"
      },
      "execution_count": null,
      "outputs": [
        {
          "output_type": "stream",
          "name": "stdout",
          "text": [
            "['a', 'b', 'c', 'd', 'c', 'b', 'a']\n",
            "{'d', 'a', 'b', 'c'}\n"
          ]
        }
      ]
    },
    {
      "cell_type": "markdown",
      "source": [
        "조건문 (if)\n",
        "- 코딩하면서 가장 많이 사용\n",
        "- 어떤 조건을 가정했을 때 해당 조건을 만족하면 그에 맞는 값 출력"
      ],
      "metadata": {
        "id": "KpKmrPbe_OVh"
      }
    },
    {
      "cell_type": "code",
      "source": [
        "a3 = 5\n",
        "if a3 == 5:\n",
        "    print(a3)"
      ],
      "metadata": {
        "colab": {
          "base_uri": "https://localhost:8080/"
        },
        "id": "jdMZV_JS_IT-",
        "outputId": "b848b066-5c26-4bd3-97b5-1c896712b1b5"
      },
      "execution_count": null,
      "outputs": [
        {
          "output_type": "stream",
          "name": "stdout",
          "text": [
            "5\n"
          ]
        }
      ]
    },
    {
      "cell_type": "code",
      "source": [
        "a4 = 10\n",
        "a5 = 20\n",
        "if a4 == 10 and a5 == 20:\n",
        "    print('hi')"
      ],
      "metadata": {
        "colab": {
          "base_uri": "https://localhost:8080/"
        },
        "id": "uNOUasYc_eJk",
        "outputId": "dde75650-b9b3-4045-bd77-e8dded42a87d"
      },
      "execution_count": null,
      "outputs": [
        {
          "output_type": "stream",
          "name": "stdout",
          "text": [
            "hi\n"
          ]
        }
      ]
    },
    {
      "cell_type": "code",
      "source": [
        "# 조건 여러 개\n",
        "a6 = 10\n",
        "if a6 ==10:\n",
        "    print('10입니다')\n",
        "if a6 ==20:\n",
        "    print('20입니다')"
      ],
      "metadata": {
        "colab": {
          "base_uri": "https://localhost:8080/"
        },
        "id": "qeVIIE1B_lb9",
        "outputId": "e079556d-35d3-4dbd-e63c-7b5b806c12fa"
      },
      "execution_count": null,
      "outputs": [
        {
          "output_type": "stream",
          "name": "stdout",
          "text": [
            "10입니다\n"
          ]
        }
      ]
    },
    {
      "cell_type": "markdown",
      "source": [
        "if 조건문 확장\n",
        "- if, elif(else if), else"
      ],
      "metadata": {
        "id": "8ruTh1Vt_wmT"
      }
    },
    {
      "cell_type": "code",
      "source": [
        "a8 = 20\n",
        "if a8 == 10:\n",
        "    print('10입니다.')\n",
        "else:\n",
        "    print('20입니다.')"
      ],
      "metadata": {
        "colab": {
          "base_uri": "https://localhost:8080/"
        },
        "id": "luc-2j7t_vXx",
        "outputId": "b52e4f7f-356a-4030-ccb9-a3f55ca68280"
      },
      "execution_count": null,
      "outputs": [
        {
          "output_type": "stream",
          "name": "stdout",
          "text": [
            "20입니다.\n"
          ]
        }
      ]
    },
    {
      "cell_type": "markdown",
      "source": [
        "- else문은 따로 조건식을 사용하지 않음"
      ],
      "metadata": {
        "id": "-A1s7Dqx_8bN"
      }
    },
    {
      "cell_type": "code",
      "source": [
        "a10 = 50\n",
        "\n",
        "if a10 > 30:\n",
        "    if a10 <40:\n",
        "        print('40보다 작음')\n",
        "    else:\n",
        "        print('40보다 큼')\n",
        "else:\n",
        "    print('30보다 작음')"
      ],
      "metadata": {
        "colab": {
          "base_uri": "https://localhost:8080/"
        },
        "id": "2iv4fc_P_7-d",
        "outputId": "372493ab-4c93-4194-c298-6d286be81f81"
      },
      "execution_count": null,
      "outputs": [
        {
          "output_type": "stream",
          "name": "stdout",
          "text": [
            "40보다 큼\n"
          ]
        }
      ]
    },
    {
      "cell_type": "code",
      "source": [
        "a11 = int(input())\n",
        "\n",
        "if a11 == 1:\n",
        "    print('a')\n",
        "elif a11 == 2:\n",
        "    print('b')\n",
        "elif a11 == 3:\n",
        "    print('c')\n",
        "elif a11 == 4:\n",
        "    print('d')\n",
        "elif a11 == 5:\n",
        "    print('e')\n",
        "else:\n",
        "    print('잘못 누름')"
      ],
      "metadata": {
        "colab": {
          "base_uri": "https://localhost:8080/"
        },
        "id": "ayO1Wnd1AKnE",
        "outputId": "c659cf07-6b94-43df-e751-c1417a17cfbc"
      },
      "execution_count": null,
      "outputs": [
        {
          "output_type": "stream",
          "name": "stdout",
          "text": [
            "3\n",
            "c\n"
          ]
        }
      ]
    },
    {
      "cell_type": "markdown",
      "source": [
        "for 반복문\n",
        "- range 함수와 사용하는 경우 많음\n",
        "- if문과 같이 들여쓰기 필수 (코딩툴 사용하면 자동으로 되긴 함)\n",
        "- for 변수 in range(횟수):"
      ],
      "metadata": {
        "id": "ZatJaCG9AfjU"
      }
    },
    {
      "cell_type": "code",
      "source": [
        "for a12 in range(5):\n",
        "    print('hi')"
      ],
      "metadata": {
        "colab": {
          "base_uri": "https://localhost:8080/"
        },
        "id": "zE29Rt4rAQeg",
        "outputId": "071be5d2-e51f-4afb-d952-d30065e051c3"
      },
      "execution_count": null,
      "outputs": [
        {
          "output_type": "stream",
          "name": "stdout",
          "text": [
            "hi\n",
            "hi\n",
            "hi\n",
            "hi\n",
            "hi\n"
          ]
        }
      ]
    },
    {
      "cell_type": "code",
      "source": [
        "for a13 in range(5):\n",
        "    print(a13)"
      ],
      "metadata": {
        "colab": {
          "base_uri": "https://localhost:8080/"
        },
        "id": "KKiqZTwzAq1o",
        "outputId": "a9d63cbb-e567-40d4-c02f-e9b9022939c2"
      },
      "execution_count": null,
      "outputs": [
        {
          "output_type": "stream",
          "name": "stdout",
          "text": [
            "0\n",
            "1\n",
            "2\n",
            "3\n",
            "4\n"
          ]
        }
      ]
    },
    {
      "cell_type": "code",
      "source": [
        "a14 = ['사과','배','바나나']"
      ],
      "metadata": {
        "id": "UHWWQ1xXAvHX"
      },
      "execution_count": null,
      "outputs": []
    },
    {
      "cell_type": "code",
      "source": [
        "for i in a14:\n",
        "    print(i)"
      ],
      "metadata": {
        "colab": {
          "base_uri": "https://localhost:8080/"
        },
        "id": "RHCq7VXbAzsA",
        "outputId": "96a62410-e62f-48b7-c1ec-53cabe0e3456"
      },
      "execution_count": null,
      "outputs": [
        {
          "output_type": "stream",
          "name": "stdout",
          "text": [
            "사과\n",
            "배\n",
            "바나나\n"
          ]
        }
      ]
    },
    {
      "cell_type": "code",
      "source": [
        "for a15 in 'p.','y.','t.','h.','o.','n.':\n",
        "    print(a15)"
      ],
      "metadata": {
        "colab": {
          "base_uri": "https://localhost:8080/"
        },
        "id": "lzXU-dK1A1RF",
        "outputId": "56f0eba4-49b8-4edc-dc61-fdd2c1dd0423"
      },
      "execution_count": null,
      "outputs": [
        {
          "output_type": "stream",
          "name": "stdout",
          "text": [
            "p.\n",
            "y.\n",
            "t.\n",
            "h.\n",
            "o.\n",
            "n.\n"
          ]
        }
      ]
    },
    {
      "cell_type": "code",
      "source": [
        "# end='' 붙여서 출력하고 싶을 때 사용\n",
        "for a16 in 'python':\n",
        "    print(a16, end='')"
      ],
      "metadata": {
        "colab": {
          "base_uri": "https://localhost:8080/"
        },
        "id": "b5gM_ge7A4Di",
        "outputId": "7012495f-f382-4ec4-f911-c2145367a3d9"
      },
      "execution_count": null,
      "outputs": [
        {
          "output_type": "stream",
          "name": "stdout",
          "text": [
            "python"
          ]
        }
      ]
    },
    {
      "cell_type": "code",
      "source": [
        "for a17 in reversed('python'):\n",
        "    print(a17, end='')"
      ],
      "metadata": {
        "colab": {
          "base_uri": "https://localhost:8080/"
        },
        "id": "0KuhTWK3A_UO",
        "outputId": "24031eb8-f61a-4bef-a78e-f007ac78a7bb"
      },
      "execution_count": null,
      "outputs": [
        {
          "output_type": "stream",
          "name": "stdout",
          "text": [
            "nohtyp"
          ]
        }
      ]
    },
    {
      "cell_type": "markdown",
      "source": [
        "while문\n",
        "- 조건문이 참인 동안에 계속해서 돌아가는 성질 (무한으로 반복할 때만 사용하고 거의 안씀)"
      ],
      "metadata": {
        "id": "vxXtJmFQBYII"
      }
    },
    {
      "cell_type": "code",
      "source": [
        "a18 = 0\n",
        "while a18 <10:\n",
        "    print('hi')\n",
        "    a18 += 1"
      ],
      "metadata": {
        "colab": {
          "base_uri": "https://localhost:8080/"
        },
        "id": "fb-vb_ZSBIca",
        "outputId": "f440cb4a-0a75-45f8-e612-739284412aa4"
      },
      "execution_count": null,
      "outputs": [
        {
          "output_type": "stream",
          "name": "stdout",
          "text": [
            "hi\n",
            "hi\n",
            "hi\n",
            "hi\n",
            "hi\n",
            "hi\n",
            "hi\n",
            "hi\n",
            "hi\n",
            "hi\n"
          ]
        }
      ]
    },
    {
      "cell_type": "markdown",
      "source": [
        "while문을 제어할 수 있는 문법\n",
        "- break : 반복문을 중단\n",
        "- continue : 반복문을 중단하지 않고 진행, 해당 코드는 실행하지 않고 넘어감"
      ],
      "metadata": {
        "id": "xG3x7ZSvBl3q"
      }
    },
    {
      "cell_type": "code",
      "source": [
        "a19 = 0\n",
        "while True:\n",
        "    print(a19)\n",
        "    a19 += 1\n",
        "    if a19 == 5:\n",
        "        break"
      ],
      "metadata": {
        "colab": {
          "base_uri": "https://localhost:8080/"
        },
        "id": "8d-2yGqjBjfF",
        "outputId": "cb46da12-1cc0-4bda-fc56-fcc92cbd4f5b"
      },
      "execution_count": null,
      "outputs": [
        {
          "output_type": "stream",
          "name": "stdout",
          "text": [
            "0\n",
            "1\n",
            "2\n",
            "3\n",
            "4\n"
          ]
        }
      ]
    },
    {
      "cell_type": "code",
      "source": [
        "for a20 in range(1000000):\n",
        "    print(a20)\n",
        "    if a20 ==10:\n",
        "        break"
      ],
      "metadata": {
        "colab": {
          "base_uri": "https://localhost:8080/"
        },
        "id": "zZ6KY5S0B22C",
        "outputId": "bbba7455-56bc-40c7-f084-c9cde4e26341"
      },
      "execution_count": null,
      "outputs": [
        {
          "output_type": "stream",
          "name": "stdout",
          "text": [
            "0\n",
            "1\n",
            "2\n",
            "3\n",
            "4\n",
            "5\n",
            "6\n",
            "7\n",
            "8\n",
            "9\n",
            "10\n"
          ]
        }
      ]
    },
    {
      "cell_type": "code",
      "source": [
        "a21 = 0\n",
        "while a21 <10:\n",
        "    a21 += 1\n",
        "    if a21 % 2 ==0:\n",
        "        continue\n",
        "    print(a21)"
      ],
      "metadata": {
        "colab": {
          "base_uri": "https://localhost:8080/"
        },
        "id": "J4on6Cz1CAYR",
        "outputId": "06eb97a8-1fa7-4527-c53a-e3b8ebb631e1"
      },
      "execution_count": null,
      "outputs": [
        {
          "output_type": "stream",
          "name": "stdout",
          "text": [
            "1\n",
            "3\n",
            "5\n",
            "7\n",
            "9\n"
          ]
        }
      ]
    },
    {
      "cell_type": "code",
      "source": [
        "for a22 in range(10):\n",
        "    print(a22,'continue문을 만나기 전')\n",
        "    if a22 % 2 == 0:\n",
        "        continue\n",
        "    print(a22,'continue문을 만난 후')"
      ],
      "metadata": {
        "colab": {
          "base_uri": "https://localhost:8080/"
        },
        "id": "eobIrPu0CLB1",
        "outputId": "f183a7d8-24c0-42de-8771-5798e411d9e8"
      },
      "execution_count": null,
      "outputs": [
        {
          "output_type": "stream",
          "name": "stdout",
          "text": [
            "0 continue문을 만나기 전\n",
            "1 continue문을 만나기 전\n",
            "1 continue문을 만난 후\n",
            "2 continue문을 만나기 전\n",
            "3 continue문을 만나기 전\n",
            "3 continue문을 만난 후\n",
            "4 continue문을 만나기 전\n",
            "5 continue문을 만나기 전\n",
            "5 continue문을 만난 후\n",
            "6 continue문을 만나기 전\n",
            "7 continue문을 만나기 전\n",
            "7 continue문을 만난 후\n",
            "8 continue문을 만나기 전\n",
            "9 continue문을 만나기 전\n",
            "9 continue문을 만난 후\n"
          ]
        }
      ]
    },
    {
      "cell_type": "markdown",
      "source": [
        "# 리스트랑 반복문 사용"
      ],
      "metadata": {
        "id": "hnu5KaI8CiZH"
      }
    },
    {
      "cell_type": "code",
      "source": [
        "for a23 in range(10):\n",
        "    print(a23+100)"
      ],
      "metadata": {
        "colab": {
          "base_uri": "https://localhost:8080/"
        },
        "id": "vWwhmQe4CT8z",
        "outputId": "b2bfeb86-5476-483d-bb3c-82aee463265a"
      },
      "execution_count": null,
      "outputs": [
        {
          "output_type": "stream",
          "name": "stdout",
          "text": [
            "100\n",
            "101\n",
            "102\n",
            "103\n",
            "104\n",
            "105\n",
            "106\n",
            "107\n",
            "108\n",
            "109\n"
          ]
        }
      ]
    },
    {
      "cell_type": "code",
      "source": [
        "[a23+100 for a23 in range(10)]"
      ],
      "metadata": {
        "colab": {
          "base_uri": "https://localhost:8080/"
        },
        "id": "VLPPHJoEClVD",
        "outputId": "1adade69-643b-4a10-c42e-0ef38a3dbad2"
      },
      "execution_count": null,
      "outputs": [
        {
          "output_type": "execute_result",
          "data": {
            "text/plain": [
              "[100, 101, 102, 103, 104, 105, 106, 107, 108, 109]"
            ]
          },
          "metadata": {},
          "execution_count": 41
        }
      ]
    },
    {
      "cell_type": "code",
      "source": [
        "[a23+100 for a23 in range(10) if a23 % 2  ==0]"
      ],
      "metadata": {
        "colab": {
          "base_uri": "https://localhost:8080/"
        },
        "id": "s7JfvBU1Ct9D",
        "outputId": "09d6a14a-45af-43c2-e12e-08286aa438dd"
      },
      "execution_count": null,
      "outputs": [
        {
          "output_type": "execute_result",
          "data": {
            "text/plain": [
              "[100, 102, 104, 106, 108]"
            ]
          },
          "metadata": {},
          "execution_count": 42
        }
      ]
    },
    {
      "cell_type": "markdown",
      "source": [
        "if문 여러개 사용 + 리스트"
      ],
      "metadata": {
        "id": "ysgCkzIjC6IS"
      }
    },
    {
      "cell_type": "code",
      "source": [
        "for a24 in range(4):\n",
        "    for a25 in range(3):\n",
        "        print(a25,a24)"
      ],
      "metadata": {
        "colab": {
          "base_uri": "https://localhost:8080/"
        },
        "id": "5h8O7v--C1GF",
        "outputId": "dff57ea9-056b-4a19-dfbc-216a41df970c"
      },
      "execution_count": null,
      "outputs": [
        {
          "output_type": "stream",
          "name": "stdout",
          "text": [
            "0 0\n",
            "1 0\n",
            "2 0\n",
            "0 1\n",
            "1 1\n",
            "2 1\n",
            "0 2\n",
            "1 2\n",
            "2 2\n",
            "0 3\n",
            "1 3\n",
            "2 3\n"
          ]
        }
      ]
    },
    {
      "cell_type": "code",
      "source": [
        "[(a25,a24) for a24 in range(4) for a25 in range(3)]"
      ],
      "metadata": {
        "colab": {
          "base_uri": "https://localhost:8080/"
        },
        "id": "OaMJ43TFC_8H",
        "outputId": "ff2cf5dc-5ee5-40e7-fdfb-87ba7264ca76"
      },
      "execution_count": null,
      "outputs": [
        {
          "output_type": "execute_result",
          "data": {
            "text/plain": [
              "[(0, 0),\n",
              " (1, 0),\n",
              " (2, 0),\n",
              " (0, 1),\n",
              " (1, 1),\n",
              " (2, 1),\n",
              " (0, 2),\n",
              " (1, 2),\n",
              " (2, 2),\n",
              " (0, 3),\n",
              " (1, 3),\n",
              " (2, 3)]"
            ]
          },
          "metadata": {},
          "execution_count": 44
        }
      ]
    },
    {
      "cell_type": "markdown",
      "source": [
        "map 함수\n",
        "- list(map(함수,리스트))\n",
        "- tuple(map(함수,튜플))"
      ],
      "metadata": {
        "id": "X0QLM8zIDMOx"
      }
    },
    {
      "cell_type": "code",
      "source": [
        "a26 = [1,2,3,4,5]"
      ],
      "metadata": {
        "id": "dDSmUsPrDIUd"
      },
      "execution_count": null,
      "outputs": []
    },
    {
      "cell_type": "markdown",
      "source": [
        "- a26의 리스트 값을 문자형으로 바꾸기"
      ],
      "metadata": {
        "id": "gvyCpgYIDUk0"
      }
    },
    {
      "cell_type": "code",
      "source": [
        "for i in a26:\n",
        "    print(str(i))"
      ],
      "metadata": {
        "colab": {
          "base_uri": "https://localhost:8080/"
        },
        "id": "muz0jHu_DUHE",
        "outputId": "912343e0-431d-42e2-c31b-260bed8c8275"
      },
      "execution_count": null,
      "outputs": [
        {
          "output_type": "stream",
          "name": "stdout",
          "text": [
            "1\n",
            "2\n",
            "3\n",
            "4\n",
            "5\n"
          ]
        }
      ]
    },
    {
      "cell_type": "code",
      "source": [
        "a26 = list(map(str,a26))\n",
        "print(a26)"
      ],
      "metadata": {
        "colab": {
          "base_uri": "https://localhost:8080/"
        },
        "id": "rluKm6bYDbVm",
        "outputId": "b54930d6-ace3-4a3b-f3f8-154d9354a907"
      },
      "execution_count": null,
      "outputs": [
        {
          "output_type": "stream",
          "name": "stdout",
          "text": [
            "['1', '2', '3', '4', '5']\n"
          ]
        }
      ]
    },
    {
      "cell_type": "markdown",
      "source": [
        "2차원 리스트"
      ],
      "metadata": {
        "id": "K93SReG_Djss"
      }
    },
    {
      "cell_type": "code",
      "source": [
        "a27 = [[1,2,3,4,5,6]]\n",
        "print(a27)"
      ],
      "metadata": {
        "colab": {
          "base_uri": "https://localhost:8080/"
        },
        "id": "GZ2JFEYODfvt",
        "outputId": "8520b3b9-6efa-4c86-dd22-2f4aef89868d"
      },
      "execution_count": null,
      "outputs": [
        {
          "output_type": "stream",
          "name": "stdout",
          "text": [
            "[[1, 2, 3, 4, 5, 6]]\n"
          ]
        }
      ]
    },
    {
      "cell_type": "code",
      "source": [
        "a28 = [[1,2],[3,4],[5,6]]\n",
        "print(a28)"
      ],
      "metadata": {
        "colab": {
          "base_uri": "https://localhost:8080/"
        },
        "id": "4P63jVg9DntY",
        "outputId": "23870fda-3179-4a7c-8c7b-a6df062a1b97"
      },
      "execution_count": null,
      "outputs": [
        {
          "output_type": "stream",
          "name": "stdout",
          "text": [
            "[[1, 2], [3, 4], [5, 6]]\n"
          ]
        }
      ]
    },
    {
      "cell_type": "code",
      "source": [
        "for i in a28:\n",
        "    print(i)"
      ],
      "metadata": {
        "colab": {
          "base_uri": "https://localhost:8080/"
        },
        "id": "MD3E3A7IDvm6",
        "outputId": "19b199fb-4438-482e-d026-ac173233972f"
      },
      "execution_count": null,
      "outputs": [
        {
          "output_type": "stream",
          "name": "stdout",
          "text": [
            "[1, 2]\n",
            "[3, 4]\n",
            "[5, 6]\n"
          ]
        }
      ]
    },
    {
      "cell_type": "markdown",
      "source": [
        "2차원 리스트는 2개의 인덱스를 이용하여 접근"
      ],
      "metadata": {
        "id": "mKsAEyX4D2fN"
      }
    },
    {
      "cell_type": "code",
      "source": [
        "a28[0][0]"
      ],
      "metadata": {
        "colab": {
          "base_uri": "https://localhost:8080/"
        },
        "id": "Wr28-2ygD0La",
        "outputId": "233ba76e-1525-4d83-cc5b-ec9c062aaf6e"
      },
      "execution_count": null,
      "outputs": [
        {
          "output_type": "execute_result",
          "data": {
            "text/plain": [
              "1"
            ]
          },
          "metadata": {},
          "execution_count": 53
        }
      ]
    },
    {
      "cell_type": "code",
      "source": [
        "a28[0][1]"
      ],
      "metadata": {
        "colab": {
          "base_uri": "https://localhost:8080/"
        },
        "id": "jtYN4uKUD9nw",
        "outputId": "4238bb27-3b8b-4140-f321-d3de5e9872d4"
      },
      "execution_count": null,
      "outputs": [
        {
          "output_type": "execute_result",
          "data": {
            "text/plain": [
              "2"
            ]
          },
          "metadata": {},
          "execution_count": 54
        }
      ]
    },
    {
      "cell_type": "code",
      "source": [
        "a28[0][2]\n",
        "# 0번째 행에 2번째 열은 없음"
      ],
      "metadata": {
        "colab": {
          "base_uri": "https://localhost:8080/",
          "height": 147
        },
        "id": "N3m7nwqGD_RR",
        "outputId": "555a97d1-8919-4b19-f203-45bc54044652"
      },
      "execution_count": null,
      "outputs": [
        {
          "output_type": "error",
          "ename": "IndexError",
          "evalue": "list index out of range",
          "traceback": [
            "\u001b[0;31m---------------------------------------------------------------------------\u001b[0m",
            "\u001b[0;31mIndexError\u001b[0m                                Traceback (most recent call last)",
            "\u001b[0;32m<ipython-input-55-d69c8253e128>\u001b[0m in \u001b[0;36m<cell line: 1>\u001b[0;34m()\u001b[0m\n\u001b[0;32m----> 1\u001b[0;31m \u001b[0ma28\u001b[0m\u001b[0;34m[\u001b[0m\u001b[0;36m0\u001b[0m\u001b[0;34m]\u001b[0m\u001b[0;34m[\u001b[0m\u001b[0;36m2\u001b[0m\u001b[0;34m]\u001b[0m\u001b[0;34m\u001b[0m\u001b[0;34m\u001b[0m\u001b[0m\n\u001b[0m",
            "\u001b[0;31mIndexError\u001b[0m: list index out of range"
          ]
        }
      ]
    },
    {
      "cell_type": "markdown",
      "source": [
        "나중에 numpy 라이브러리 사용하면 대부분 행렬 처리가 된다."
      ],
      "metadata": {
        "id": "1dAzxG9bEHqU"
      }
    },
    {
      "cell_type": "markdown",
      "source": [
        "문자열 응용\n",
        "- 문자열 바꾸기\n",
        "- replace 문법\n",
        "- replace('기존문자열','바꿀문자열')"
      ],
      "metadata": {
        "id": "V1XWA5aqELI1"
      }
    },
    {
      "cell_type": "code",
      "source": [
        "a29 = 'hi,a'"
      ],
      "metadata": {
        "id": "b-GHy5GWEB7D"
      },
      "execution_count": null,
      "outputs": []
    },
    {
      "cell_type": "code",
      "source": [
        "'hi,a'.replace('a','b')"
      ],
      "metadata": {
        "colab": {
          "base_uri": "https://localhost:8080/",
          "height": 35
        },
        "id": "p_gEqiOfEV3O",
        "outputId": "d4f9a976-e926-443f-c4d8-5be737660aac"
      },
      "execution_count": null,
      "outputs": [
        {
          "output_type": "execute_result",
          "data": {
            "text/plain": [
              "'hi,b'"
            ],
            "application/vnd.google.colaboratory.intrinsic+json": {
              "type": "string"
            }
          },
          "metadata": {},
          "execution_count": 57
        }
      ]
    },
    {
      "cell_type": "code",
      "source": [
        "a29.replace('a','b')"
      ],
      "metadata": {
        "colab": {
          "base_uri": "https://localhost:8080/",
          "height": 35
        },
        "id": "74vsliKPEZUR",
        "outputId": "a693b4cc-586b-46ee-af42-3d5f7bfc971c"
      },
      "execution_count": null,
      "outputs": [
        {
          "output_type": "execute_result",
          "data": {
            "text/plain": [
              "'hi,b'"
            ],
            "application/vnd.google.colaboratory.intrinsic+json": {
              "type": "string"
            }
          },
          "metadata": {},
          "execution_count": 58
        }
      ]
    },
    {
      "cell_type": "code",
      "source": [
        "#split() #문자열 구분\n",
        "a30 = 'a b c d e f'.split()\n",
        "print(a30)\n",
        "# 기본 디폴트가 띄어쓰기 되어 있는 값을 기준으로 나눈다."
      ],
      "metadata": {
        "colab": {
          "base_uri": "https://localhost:8080/"
        },
        "id": "ciut9gx_EcoS",
        "outputId": "4f1af11d-edd6-4f92-eac8-ab90ff1c887f"
      },
      "execution_count": null,
      "outputs": [
        {
          "output_type": "stream",
          "name": "stdout",
          "text": [
            "['a', 'b', 'c', 'd', 'e', 'f']\n"
          ]
        }
      ]
    },
    {
      "cell_type": "code",
      "source": [
        "# join 값을 붙임\n",
        "# join([])\n",
        "''.join(['x','y','z'])"
      ],
      "metadata": {
        "colab": {
          "base_uri": "https://localhost:8080/",
          "height": 35
        },
        "id": "sCK39DlJEm0M",
        "outputId": "16568d72-e1c3-46f7-896f-cd3fe156a412"
      },
      "execution_count": null,
      "outputs": [
        {
          "output_type": "execute_result",
          "data": {
            "text/plain": [
              "'xyz'"
            ],
            "application/vnd.google.colaboratory.intrinsic+json": {
              "type": "string"
            }
          },
          "metadata": {},
          "execution_count": 61
        }
      ]
    },
    {
      "cell_type": "code",
      "source": [
        "' '.join(['x','y','z'])"
      ],
      "metadata": {
        "colab": {
          "base_uri": "https://localhost:8080/",
          "height": 35
        },
        "id": "XggafEyJE0lj",
        "outputId": "a40f9a68-f45f-47c3-bfac-c200b9e4e254"
      },
      "execution_count": null,
      "outputs": [
        {
          "output_type": "execute_result",
          "data": {
            "text/plain": [
              "'x y z'"
            ],
            "application/vnd.google.colaboratory.intrinsic+json": {
              "type": "string"
            }
          },
          "metadata": {},
          "execution_count": 62
        }
      ]
    },
    {
      "cell_type": "code",
      "source": [
        "' '.join(['x','y','z'])"
      ],
      "metadata": {
        "colab": {
          "base_uri": "https://localhost:8080/",
          "height": 35
        },
        "id": "5b7zQPTGE55w",
        "outputId": "3c6e71fa-e135-4da1-e908-9c27278b0874"
      },
      "execution_count": null,
      "outputs": [
        {
          "output_type": "execute_result",
          "data": {
            "text/plain": [
              "'x*y*z'"
            ],
            "application/vnd.google.colaboratory.intrinsic+json": {
              "type": "string"
            }
          },
          "metadata": {},
          "execution_count": 63
        }
      ]
    },
    {
      "cell_type": "markdown",
      "source": [
        "- upper() 대문자\n",
        "- lower() 소문자\n",
        "- capitalize() 가장 앞 문자만 대문자"
      ],
      "metadata": {
        "id": "uw9fQzj7E8T0"
      }
    },
    {
      "cell_type": "code",
      "source": [
        "'hello'.upper()"
      ],
      "metadata": {
        "colab": {
          "base_uri": "https://localhost:8080/",
          "height": 35
        },
        "id": "5rTY4Pl5E6-f",
        "outputId": "f7b15273-8c23-47ae-c3af-e91554b1ca8b"
      },
      "execution_count": null,
      "outputs": [
        {
          "output_type": "execute_result",
          "data": {
            "text/plain": [
              "'HELLO'"
            ],
            "application/vnd.google.colaboratory.intrinsic+json": {
              "type": "string"
            }
          },
          "metadata": {},
          "execution_count": 64
        }
      ]
    },
    {
      "cell_type": "code",
      "source": [
        "'HELLO'.lower()"
      ],
      "metadata": {
        "colab": {
          "base_uri": "https://localhost:8080/",
          "height": 35
        },
        "id": "EunE2o31FDKC",
        "outputId": "614104c4-11a2-42f4-e346-483b7d4b1fac"
      },
      "execution_count": null,
      "outputs": [
        {
          "output_type": "execute_result",
          "data": {
            "text/plain": [
              "'hello'"
            ],
            "application/vnd.google.colaboratory.intrinsic+json": {
              "type": "string"
            }
          },
          "metadata": {},
          "execution_count": 65
        }
      ]
    },
    {
      "cell_type": "code",
      "source": [
        "'hello'.capitalize()"
      ],
      "metadata": {
        "colab": {
          "base_uri": "https://localhost:8080/",
          "height": 35
        },
        "id": "i9IiBJ2JFFHI",
        "outputId": "c951b3ff-923d-40af-89ae-5d70ffa5feae"
      },
      "execution_count": null,
      "outputs": [
        {
          "output_type": "execute_result",
          "data": {
            "text/plain": [
              "'Hello'"
            ],
            "application/vnd.google.colaboratory.intrinsic+json": {
              "type": "string"
            }
          },
          "metadata": {},
          "execution_count": 66
        }
      ]
    },
    {
      "cell_type": "markdown",
      "source": [
        "공백제거\n",
        "- strip() # 좌우 공백제거\n",
        "- lstrip() # 왼쪽만 공백제거\n",
        "- rstrip() # 오른쪽만 공백제거"
      ],
      "metadata": {
        "id": "aj4nYZtbFIzj"
      }
    },
    {
      "cell_type": "code",
      "source": [
        "'hello                        '.rstrip()"
      ],
      "metadata": {
        "colab": {
          "base_uri": "https://localhost:8080/",
          "height": 35
        },
        "id": "T7ZoOHO_FHQY",
        "outputId": "2e191490-c9bd-495a-f901-c45907a3fc30"
      },
      "execution_count": null,
      "outputs": [
        {
          "output_type": "execute_result",
          "data": {
            "text/plain": [
              "'hello'"
            ],
            "application/vnd.google.colaboratory.intrinsic+json": {
              "type": "string"
            }
          },
          "metadata": {},
          "execution_count": 69
        }
      ]
    },
    {
      "cell_type": "code",
      "source": [
        "'     hello          '.strip()"
      ],
      "metadata": {
        "colab": {
          "base_uri": "https://localhost:8080/",
          "height": 35
        },
        "id": "U2J-ucO5FT3C",
        "outputId": "ebd7dfe4-3660-4e93-e38f-40af2d4aa6b6"
      },
      "execution_count": null,
      "outputs": [
        {
          "output_type": "execute_result",
          "data": {
            "text/plain": [
              "'hello'"
            ],
            "application/vnd.google.colaboratory.intrinsic+json": {
              "type": "string"
            }
          },
          "metadata": {},
          "execution_count": 71
        }
      ]
    },
    {
      "cell_type": "code",
      "source": [
        "'hello...........'.strip('.')"
      ],
      "metadata": {
        "colab": {
          "base_uri": "https://localhost:8080/",
          "height": 35
        },
        "id": "zmXjGgoYFZLx",
        "outputId": "286759c7-ded5-4bfd-dd62-bf892de1a89c"
      },
      "execution_count": null,
      "outputs": [
        {
          "output_type": "execute_result",
          "data": {
            "text/plain": [
              "'hello'"
            ],
            "application/vnd.google.colaboratory.intrinsic+json": {
              "type": "string"
            }
          },
          "metadata": {},
          "execution_count": 73
        }
      ]
    },
    {
      "cell_type": "markdown",
      "source": [
        "채우기\n",
        "- zfill(길이)\n",
        "- 디폴트 왼쪽 기준"
      ],
      "metadata": {
        "id": "pcwgwYwHFjbB"
      }
    },
    {
      "cell_type": "code",
      "source": [
        "'hello'.zfill(5)"
      ],
      "metadata": {
        "colab": {
          "base_uri": "https://localhost:8080/",
          "height": 35
        },
        "id": "F8QrCQOiFf7Z",
        "outputId": "19c170c7-6102-4e4c-ff4b-5274331e2504"
      },
      "execution_count": null,
      "outputs": [
        {
          "output_type": "execute_result",
          "data": {
            "text/plain": [
              "'hello'"
            ],
            "application/vnd.google.colaboratory.intrinsic+json": {
              "type": "string"
            }
          },
          "metadata": {},
          "execution_count": 74
        }
      ]
    },
    {
      "cell_type": "code",
      "source": [
        "'hello'.zfill(10)"
      ],
      "metadata": {
        "colab": {
          "base_uri": "https://localhost:8080/",
          "height": 35
        },
        "id": "ZTV8E7i-FpAp",
        "outputId": "c10e32a7-33c6-45d2-f9af-375ca708a829"
      },
      "execution_count": null,
      "outputs": [
        {
          "output_type": "execute_result",
          "data": {
            "text/plain": [
              "'00000hello'"
            ],
            "application/vnd.google.colaboratory.intrinsic+json": {
              "type": "string"
            }
          },
          "metadata": {},
          "execution_count": 75
        }
      ]
    },
    {
      "cell_type": "markdown",
      "source": [
        "문자열 개수 세기\n",
        "- count('문자')"
      ],
      "metadata": {
        "id": "HkUegt66Fuv-"
      }
    },
    {
      "cell_type": "code",
      "source": [
        "'hello'.count('l')"
      ],
      "metadata": {
        "colab": {
          "base_uri": "https://localhost:8080/"
        },
        "id": "WEZYUqnBFq_u",
        "outputId": "db88a0d2-6f3e-46cd-db87-349bdc634ffb"
      },
      "execution_count": null,
      "outputs": [
        {
          "output_type": "execute_result",
          "data": {
            "text/plain": [
              "2"
            ]
          },
          "metadata": {},
          "execution_count": 78
        }
      ]
    },
    {
      "cell_type": "markdown",
      "source": [
        "문자열 포맷팅\n",
        "- 문자 대체\n",
        "- 서식지정자 (format specifier)\n",
        "- '%s' % '문자열'\n",
        "- '%s'이 값을 % 뒤에 문자열로 대체"
      ],
      "metadata": {
        "id": "RDwkM1cIF5Ge"
      }
    },
    {
      "cell_type": "code",
      "source": [
        "'%s의 점수는 80점' % '나'"
      ],
      "metadata": {
        "colab": {
          "base_uri": "https://localhost:8080/",
          "height": 35
        },
        "id": "649YEQctF237",
        "outputId": "66621be6-d72b-41c4-f554-9c3193d39e8d"
      },
      "execution_count": null,
      "outputs": [
        {
          "output_type": "execute_result",
          "data": {
            "text/plain": [
              "'나의 점수는 80점'"
            ],
            "application/vnd.google.colaboratory.intrinsic+json": {
              "type": "string"
            }
          },
          "metadata": {},
          "execution_count": 79
        }
      ]
    },
    {
      "cell_type": "markdown",
      "source": [
        "- 숫자 대체\n",
        "- %d 사용\n",
        "- '%d' % 숫자"
      ],
      "metadata": {
        "id": "QUxx2tQKGKxS"
      }
    },
    {
      "cell_type": "code",
      "source": [
        "'나의 점수는 %d점' % 80"
      ],
      "metadata": {
        "colab": {
          "base_uri": "https://localhost:8080/",
          "height": 35
        },
        "id": "iJdZnbScGJGU",
        "outputId": "500268ed-d063-4992-909f-22bb73ef9bef"
      },
      "execution_count": null,
      "outputs": [
        {
          "output_type": "execute_result",
          "data": {
            "text/plain": [
              "'나의 점수는 80점'"
            ],
            "application/vnd.google.colaboratory.intrinsic+json": {
              "type": "string"
            }
          },
          "metadata": {},
          "execution_count": 80
        }
      ]
    },
    {
      "cell_type": "markdown",
      "source": [
        "- 자릿수 지정 가능\n",
        "- '%.자릿수f' % 숫자"
      ],
      "metadata": {
        "id": "qSI0Jre2GUd0"
      }
    },
    {
      "cell_type": "code",
      "source": [
        "'나의 점수는 %.3f점' % 80.5"
      ],
      "metadata": {
        "colab": {
          "base_uri": "https://localhost:8080/",
          "height": 35
        },
        "id": "-nrUj6j9GSEI",
        "outputId": "8d75e2f6-8cb8-4b3a-a6e3-4be474b4a472"
      },
      "execution_count": null,
      "outputs": [
        {
          "output_type": "execute_result",
          "data": {
            "text/plain": [
              "'나의 점수는 80.500점'"
            ],
            "application/vnd.google.colaboratory.intrinsic+json": {
              "type": "string"
            }
          },
          "metadata": {},
          "execution_count": 81
        }
      ]
    },
    {
      "cell_type": "code",
      "source": [
        "'나의 점수는 %.3f점' % 80.123456"
      ],
      "metadata": {
        "colab": {
          "base_uri": "https://localhost:8080/",
          "height": 35
        },
        "id": "xQ1miw1-GcEi",
        "outputId": "b388ee8d-d9bd-4249-c09f-fcf711471634"
      },
      "execution_count": null,
      "outputs": [
        {
          "output_type": "execute_result",
          "data": {
            "text/plain": [
              "'나의 점수는 80.123점'"
            ],
            "application/vnd.google.colaboratory.intrinsic+json": {
              "type": "string"
            }
          },
          "metadata": {},
          "execution_count": 82
        }
      ]
    },
    {
      "cell_type": "markdown",
      "source": [
        "\n",
        "\n",
        "```\n",
        "# 코드로 형식 지정됨\n",
        "```\n",
        "\n",
        "- 실제 사용"
      ],
      "metadata": {
        "id": "LlO1dLxoGfDv"
      }
    },
    {
      "cell_type": "code",
      "source": [
        "'{0}의 점수는 80점'.format('나')"
      ],
      "metadata": {
        "colab": {
          "base_uri": "https://localhost:8080/",
          "height": 35
        },
        "id": "o29yp3voGdS2",
        "outputId": "ec9b2402-03ff-4b92-f28e-3bcb9f0a6981"
      },
      "execution_count": null,
      "outputs": [
        {
          "output_type": "execute_result",
          "data": {
            "text/plain": [
              "'나의 점수는 80점'"
            ],
            "application/vnd.google.colaboratory.intrinsic+json": {
              "type": "string"
            }
          },
          "metadata": {},
          "execution_count": 83
        }
      ]
    },
    {
      "cell_type": "code",
      "source": [
        "'{0}의 점수는 {1}점. {1}점은 평균 이상'.format('나',80)"
      ],
      "metadata": {
        "colab": {
          "base_uri": "https://localhost:8080/",
          "height": 35
        },
        "id": "Uwd2ucCyGlZN",
        "outputId": "803710b7-e2e0-43cb-9cb2-63bd565b85ad"
      },
      "execution_count": null,
      "outputs": [
        {
          "output_type": "execute_result",
          "data": {
            "text/plain": [
              "'나의 점수는 80점. 80점은 평균 이상'"
            ],
            "application/vnd.google.colaboratory.intrinsic+json": {
              "type": "string"
            }
          },
          "metadata": {},
          "execution_count": 84
        }
      ]
    },
    {
      "cell_type": "code",
      "source": [],
      "metadata": {
        "id": "HlYqsZgrGtuF"
      },
      "execution_count": null,
      "outputs": []
    },
    {
      "cell_type": "markdown",
      "source": [
        "과제는 복습과제만"
      ],
      "metadata": {
        "id": "-ZzkSU4FHseQ"
      }
    },
    {
      "cell_type": "code",
      "source": [],
      "metadata": {
        "id": "Gw59p0l3Ht5M"
      },
      "execution_count": null,
      "outputs": []
    }
  ]
}

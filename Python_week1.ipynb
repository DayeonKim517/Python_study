{
 "cells": [
  {
   "cell_type": "markdown",
   "id": "414fb0eb-1fe9-4745-adfe-5569beba1187",
   "metadata": {},
   "source": [
    "## 변수란 무엇인가?\n",
    "- 변수란? -> 내가 원하는 데이터를 담아 두는 것 (주머니의 개념)\n",
    "    - 변수는 이름이 있다.\n",
    "    - 변수는 여러가지를 만들 수 있다.\n",
    "    - 변수를 만들 수 있는 규칙이 있다.\n",
    "- 변수 이름 규칙\n",
    "    - 영문과 숫자 사용가능\n",
    "    - 대소문자 구분\n",
    "    - 문자부터 시작, 숫자부터는 불가능\n",
    "    - _ 밑줄 문자 사용 가능\n",
    "    - 특수문자 사용할 수 없음\n",
    "    - Python 문법 약속어 키워드는 사용 불가능 (if, for 같은 문법 약속어 등)"
   ]
  },
  {
   "cell_type": "code",
   "execution_count": 1,
   "id": "5f822747-b6c2-492b-af54-64ad7ebf54d5",
   "metadata": {},
   "outputs": [],
   "source": [
    "# 변수 정의\n",
    "abc123 = 100\n",
    "# abc123 이라는 곳에 100이라는 숫자 넣기\n",
    "# abc123 변수에 100이라는 값을 넣는다.\n",
    "\n",
    "# 파이썬 문법 = 는 변수를 대입한다는 뜻\n",
    "# 같다는 == 두 개를 사용"
   ]
  },
  {
   "cell_type": "code",
   "execution_count": 7,
   "id": "9c58d4b2-bbb2-4844-aabf-9a7d335c7c85",
   "metadata": {},
   "outputs": [
    {
     "name": "stdout",
     "output_type": "stream",
     "text": [
      "100\n"
     ]
    }
   ],
   "source": [
    "print(abc123)"
   ]
  },
  {
   "cell_type": "code",
   "execution_count": 11,
   "id": "1b4b56d8-7507-48d7-8d44-6ba099d27b46",
   "metadata": {},
   "outputs": [
    {
     "name": "stdout",
     "output_type": "stream",
     "text": [
      "abc123\n",
      "100\n"
     ]
    }
   ],
   "source": [
    "print('abc123') # 문자열을 출력\n",
    "print(abc123) # 변수 abc123을 출력"
   ]
  },
  {
   "cell_type": "code",
   "execution_count": 2,
   "id": "d6393bb8-c6b6-4157-ae4e-b269f9c83974",
   "metadata": {},
   "outputs": [],
   "source": [
    "new_data = 1000+3000"
   ]
  },
  {
   "cell_type": "code",
   "execution_count": 4,
   "id": "b9d32d3c-995f-4924-82a2-68e7bee9765c",
   "metadata": {},
   "outputs": [
    {
     "name": "stdout",
     "output_type": "stream",
     "text": [
      "4000\n"
     ]
    }
   ],
   "source": [
    "print(new_data)"
   ]
  },
  {
   "cell_type": "code",
   "execution_count": 10,
   "id": "8a43c98b-673e-4f71-8134-1183bc30bdde",
   "metadata": {},
   "outputs": [
    {
     "data": {
      "text/plain": [
       "True"
      ]
     },
     "execution_count": 10,
     "metadata": {},
     "output_type": "execute_result"
    }
   ],
   "source": [
    "1 == 1"
   ]
  },
  {
   "cell_type": "code",
   "execution_count": 13,
   "id": "10871359-d6c1-4fd7-bd5c-93cc196b59a9",
   "metadata": {},
   "outputs": [],
   "source": [
    "# 변수를 여러개 사용해도 대응해서 들어갈 수 있음\n",
    "a,b,c = 10,20,30"
   ]
  },
  {
   "cell_type": "code",
   "execution_count": 14,
   "id": "7abe269c-0ed9-4a22-a5a5-a7bb02ed3165",
   "metadata": {},
   "outputs": [
    {
     "name": "stdout",
     "output_type": "stream",
     "text": [
      "10\n",
      "20\n",
      "30\n"
     ]
    }
   ],
   "source": [
    "print(a)\n",
    "print(b)\n",
    "print(c)"
   ]
  },
  {
   "cell_type": "code",
   "execution_count": 16,
   "id": "2e27b55e-103f-40b7-9e7d-22b6fa5f9d7f",
   "metadata": {},
   "outputs": [
    {
     "ename": "ValueError",
     "evalue": "too many values to unpack (expected 2)",
     "output_type": "error",
     "traceback": [
      "\u001b[1;31m---------------------------------------------------------------------------\u001b[0m",
      "\u001b[1;31mValueError\u001b[0m                                Traceback (most recent call last)",
      "Cell \u001b[1;32mIn[16], line 1\u001b[0m\n\u001b[1;32m----> 1\u001b[0m a,b \u001b[38;5;241m=\u001b[39m \u001b[38;5;241m10\u001b[39m,\u001b[38;5;241m20\u001b[39m,\u001b[38;5;241m30\u001b[39m\n",
      "\u001b[1;31mValueError\u001b[0m: too many values to unpack (expected 2)"
     ]
    }
   ],
   "source": [
    "# 변수와 값의 개수가 동일해야 함\n",
    "a,b = 10,20,30"
   ]
  },
  {
   "cell_type": "code",
   "execution_count": 17,
   "id": "f2d04942-2817-4d75-b88f-43e29f847bb7",
   "metadata": {},
   "outputs": [],
   "source": [
    "d = c = b = a = 1000"
   ]
  },
  {
   "cell_type": "code",
   "execution_count": 18,
   "id": "37825880-4b43-4b71-9831-30a46707f7cd",
   "metadata": {},
   "outputs": [
    {
     "name": "stdout",
     "output_type": "stream",
     "text": [
      "1000\n",
      "1000\n",
      "1000\n",
      "1000\n"
     ]
    }
   ],
   "source": [
    "print(a)\n",
    "print(b)\n",
    "print(c)\n",
    "print(d)"
   ]
  },
  {
   "cell_type": "code",
   "execution_count": 19,
   "id": "1bf9a925-2f2a-494b-8518-c6993fa2c7a6",
   "metadata": {},
   "outputs": [],
   "source": [
    "# 변수안에 변수 넣기 가능\n",
    "bc = 100"
   ]
  },
  {
   "cell_type": "code",
   "execution_count": 20,
   "id": "ab23552e-d990-4944-ae25-bfa72826fd4c",
   "metadata": {},
   "outputs": [],
   "source": [
    "ab = bc"
   ]
  },
  {
   "cell_type": "code",
   "execution_count": 21,
   "id": "5b1164c3-1a7d-4cfe-b610-1be917dcc0ac",
   "metadata": {},
   "outputs": [
    {
     "name": "stdout",
     "output_type": "stream",
     "text": [
      "100\n",
      "100\n"
     ]
    }
   ],
   "source": [
    "print(ab)\n",
    "print(bc)"
   ]
  },
  {
   "cell_type": "code",
   "execution_count": 23,
   "id": "484d763a-6cb5-485b-9ea7-cf47c11065e5",
   "metadata": {},
   "outputs": [
    {
     "name": "stdout",
     "output_type": "stream",
     "text": [
      "200\n"
     ]
    }
   ],
   "source": [
    "# 변수끼리 값을 더할 수 있음\n",
    "print(bc + ab)"
   ]
  },
  {
   "cell_type": "markdown",
   "id": "b4223246-9e0d-497f-af39-dffbec37d813",
   "metadata": {},
   "source": [
    "- input() 함수는 사용자에게 값을 받아서 출력할 수 있는 함수\n",
    "- 모든 값을 문자열로 받음"
   ]
  },
  {
   "cell_type": "code",
   "execution_count": 36,
   "id": "e1dc570d-7cde-481c-983e-0f27ac940891",
   "metadata": {},
   "outputs": [
    {
     "name": "stdin",
     "output_type": "stream",
     "text": [
      " 5\n"
     ]
    }
   ],
   "source": [
    "x = input()"
   ]
  },
  {
   "cell_type": "code",
   "execution_count": 37,
   "id": "9398416e-c7e0-4cb1-b52c-a7f60f6cdf61",
   "metadata": {},
   "outputs": [
    {
     "name": "stdin",
     "output_type": "stream",
     "text": [
      " 10\n"
     ]
    }
   ],
   "source": [
    "y = input()"
   ]
  },
  {
   "cell_type": "code",
   "execution_count": 39,
   "id": "52d2a78f-c183-4583-8528-2116481e7061",
   "metadata": {},
   "outputs": [
    {
     "name": "stdout",
     "output_type": "stream",
     "text": [
      "510\n"
     ]
    }
   ],
   "source": [
    "print(x+y)\n",
    "# input값은 문자열로 받음"
   ]
  },
  {
   "cell_type": "markdown",
   "id": "ccefc642-43f7-4a34-a7ce-0aef89bf5333",
   "metadata": {},
   "source": [
    "## input() 함수의 기능\n",
    "- input().split() 나눠주는 개념, 값을 나눠서 저장"
   ]
  },
  {
   "cell_type": "code",
   "execution_count": 42,
   "id": "af0f9bc6-0747-4a5d-b426-bc3e0f0f5f1e",
   "metadata": {},
   "outputs": [
    {
     "name": "stdin",
     "output_type": "stream",
     "text": [
      " 1 20\n"
     ]
    }
   ],
   "source": [
    "x,y = input().split()\n",
    "# 입력할 때 띄어쓰기를 이용하여 x와 y를 설정"
   ]
  },
  {
   "cell_type": "code",
   "execution_count": 44,
   "id": "be48fcba-1067-4f83-9c3f-2c1de3806fff",
   "metadata": {},
   "outputs": [
    {
     "name": "stdin",
     "output_type": "stream",
     "text": [
      "두 개의 값을 입력하시오! (띄어쓰기로구분) 1 20\n"
     ]
    }
   ],
   "source": [
    "x,y = input(\"두 개의 값을 입력하시오! (띄어쓰기로구분)\").split()"
   ]
  },
  {
   "cell_type": "code",
   "execution_count": 46,
   "id": "e738cdc1-a09f-4bd9-9c4d-99b0451512a4",
   "metadata": {},
   "outputs": [
    {
     "name": "stdout",
     "output_type": "stream",
     "text": [
      "1\n",
      "20\n"
     ]
    }
   ],
   "source": [
    "print(x)\n",
    "print(y)"
   ]
  },
  {
   "cell_type": "markdown",
   "id": "31e76859-d5a6-4d74-baf3-694b202f8593",
   "metadata": {},
   "source": [
    "## 출력문 이해\n",
    "- print()문 안에서도 다양한 기능이 있음\n",
    "    - sep -> 구분자라는 뜻\n",
    "    - 값과 값 사이에 공백이나 문자를 넣고 싶을 때 사용할 수 있는 함수\n",
    "    - print(값, 값2, sep = '문자 또는 문자열 구분자')"
   ]
  },
  {
   "cell_type": "code",
   "execution_count": 48,
   "id": "30700933-9527-4567-a2b8-6db374b85915",
   "metadata": {},
   "outputs": [
    {
     "name": "stdout",
     "output_type": "stream",
     "text": [
      "1,2,3\n"
     ]
    }
   ],
   "source": [
    "# ,로 구분해서 값을 나누기\n",
    "print(1,2,3,sep=',')"
   ]
  },
  {
   "cell_type": "code",
   "execution_count": 49,
   "id": "7cd22162-3d16-4034-8957-7c8f2d18ad7c",
   "metadata": {},
   "outputs": [
    {
     "name": "stdout",
     "output_type": "stream",
     "text": [
      "1, 2, 3\n"
     ]
    }
   ],
   "source": [
    "# 공백도 하나의 문자로 생각하고 표현\n",
    "print(1,2,3,sep=', ')"
   ]
  },
  {
   "cell_type": "code",
   "execution_count": 51,
   "id": "38c4aa37-0155-4de1-8c9f-2db2c3d34030",
   "metadata": {},
   "outputs": [
    {
     "name": "stdout",
     "output_type": "stream",
     "text": [
      "123\n"
     ]
    }
   ],
   "source": [
    "# 공백없이 출력\n",
    "print(1,2,3,sep='')"
   ]
  },
  {
   "cell_type": "code",
   "execution_count": 52,
   "id": "48dcde31-be35-4af7-bace-616400322127",
   "metadata": {},
   "outputs": [
    {
     "name": "stdout",
     "output_type": "stream",
     "text": [
      "1\n",
      "2\n",
      "3\n"
     ]
    }
   ],
   "source": [
    "# 1\n",
    "# 2\n",
    "# 3 과 같이 출력\n",
    "print(1,2,3,sep='\\n') # 줄바꿈 문자 사용"
   ]
  },
  {
   "cell_type": "code",
   "execution_count": 54,
   "id": "9959a133-ea0d-4e5f-a01d-409da092b5c5",
   "metadata": {},
   "outputs": [
    {
     "name": "stdout",
     "output_type": "stream",
     "text": [
      "1\n",
      "2\n",
      "3\n"
     ]
    }
   ],
   "source": [
    "print('1\\n2\\n3')"
   ]
  },
  {
   "cell_type": "markdown",
   "id": "908e95fd-b040-485d-8ad6-11fbf8990eec",
   "metadata": {},
   "source": [
    "### 위의 출력문 모두 값이 아닌 변수가 들어가도 동일하게 출력이 나옴"
   ]
  },
  {
   "cell_type": "markdown",
   "id": "e22a9880-034a-4bd0-9f24-5a299b9317b1",
   "metadata": {},
   "source": [
    "# 불리언 값\n",
    "- 참 또는 거짓 (True, False)\n",
    "- 기존의 int, str 외의 boolean 값이 따로 존재"
   ]
  },
  {
   "cell_type": "code",
   "execution_count": 55,
   "id": "5453a2ab-1e31-4c8d-9f81-230f6f185db8",
   "metadata": {},
   "outputs": [
    {
     "name": "stdout",
     "output_type": "stream",
     "text": [
      "True\n",
      "False\n",
      "True\n",
      "False\n"
     ]
    }
   ],
   "source": [
    "print(3>1)\n",
    "print(1>3)\n",
    "print(1==1)\n",
    "print(1!=1)"
   ]
  },
  {
   "cell_type": "code",
   "execution_count": null,
   "id": "da0040f4-d1ad-4191-8cd9-ba69576f871f",
   "metadata": {},
   "outputs": [],
   "source": []
  }
 ],
 "metadata": {
  "kernelspec": {
   "display_name": "Python 3 (ipykernel)",
   "language": "python",
   "name": "python3"
  },
  "language_info": {
   "codemirror_mode": {
    "name": "ipython",
    "version": 3
   },
   "file_extension": ".py",
   "mimetype": "text/x-python",
   "name": "python",
   "nbconvert_exporter": "python",
   "pygments_lexer": "ipython3",
   "version": "3.11.7"
  }
 },
 "nbformat": 4,
 "nbformat_minor": 5
}

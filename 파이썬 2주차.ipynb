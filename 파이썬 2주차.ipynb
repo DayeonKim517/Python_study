{
 "cells": [
  {
   "cell_type": "markdown",
   "id": "bee06880-d9cb-4bc1-acb6-a83038f97f83",
   "metadata": {},
   "source": [
    "## 리스트 (list)\n",
    "- 리스트는 모든 자료형(숫자,문자,boolean 등)을 모두 넣을 수 있음\n",
    "- 리스트 = [값,값,값] 형태"
   ]
  },
  {
   "cell_type": "code",
   "execution_count": 1,
   "id": "264756ca-d9f2-4f97-b5bc-24e8a2571569",
   "metadata": {},
   "outputs": [
    {
     "name": "stdout",
     "output_type": "stream",
     "text": [
      "[1, 2, 3]\n"
     ]
    }
   ],
   "source": [
    "a=[1,2,3]\n",
    "print(a)"
   ]
  },
  {
   "cell_type": "code",
   "execution_count": 3,
   "id": "6f1bf965-499b-4d7b-9a3e-def1451e6a26",
   "metadata": {},
   "outputs": [
    {
     "name": "stdout",
     "output_type": "stream",
     "text": [
      "['wed', 13, 13.0, True, False]\n"
     ]
    }
   ],
   "source": [
    "study = ['wed',13,13.0,True,False]\n",
    "print(study)"
   ]
  },
  {
   "cell_type": "markdown",
   "id": "f647d3bb-c829-46b5-a310-a2aec5f5323e",
   "metadata": {},
   "source": [
    "### 리스트 만드는법\n",
    "- a=[]\n",
    "- list()"
   ]
  },
  {
   "cell_type": "code",
   "execution_count": 8,
   "id": "c422093e-da2c-43cc-8947-1c876206edf6",
   "metadata": {},
   "outputs": [
    {
     "name": "stdout",
     "output_type": "stream",
     "text": [
      "[]\n"
     ]
    }
   ],
   "source": [
    "b=list()\n",
    "print(b)"
   ]
  },
  {
   "cell_type": "markdown",
   "id": "d7c1bc54-c63c-400f-a29c-e0d92796b6fd",
   "metadata": {},
   "source": [
    "### range 함수\n",
    "- range는 범위의 개념\n",
    "- range 함수는 연속된 숫자들을 쉽게 만들어 주는 것\n",
    "- 연속된 숫자(정수)를 빠르게 만들어주는 함수"
   ]
  },
  {
   "cell_type": "code",
   "execution_count": 12,
   "id": "2b121d94-86a7-46d4-82d4-1a35e5f794eb",
   "metadata": {},
   "outputs": [
    {
     "data": {
      "text/plain": [
       "[0, 1, 2, 3, 4, 5, 6, 7, 8, 9, 10]"
      ]
     },
     "execution_count": 12,
     "metadata": {},
     "output_type": "execute_result"
    }
   ],
   "source": [
    "list(range(0,11))"
   ]
  },
  {
   "cell_type": "code",
   "execution_count": 13,
   "id": "10656140-17ac-41b2-a21d-47a58538d718",
   "metadata": {},
   "outputs": [
    {
     "data": {
      "text/plain": [
       "range(0, 10)"
      ]
     },
     "execution_count": 13,
     "metadata": {},
     "output_type": "execute_result"
    }
   ],
   "source": [
    "range(10)"
   ]
  },
  {
   "cell_type": "markdown",
   "id": "70b892c1-f417-49cf-b94a-b4fcbb6b2378",
   "metadata": {},
   "source": [
    "- range 안에 있는 값을 확인하기 위해 list에 넣어야함\n",
    "- 범위를 지정하지 않으면 0부터 시작"
   ]
  },
  {
   "cell_type": "code",
   "execution_count": 14,
   "id": "d8952d9f-631f-44b1-afb9-b05934277451",
   "metadata": {},
   "outputs": [
    {
     "data": {
      "text/plain": [
       "[0, 1, 2, 3, 4, 5, 6, 7, 8, 9]"
      ]
     },
     "execution_count": 14,
     "metadata": {},
     "output_type": "execute_result"
    }
   ],
   "source": [
    "list(range(10))"
   ]
  },
  {
   "cell_type": "code",
   "execution_count": 16,
   "id": "7e02081b-bce7-4292-971a-84c22efed73c",
   "metadata": {},
   "outputs": [
    {
     "data": {
      "text/plain": [
       "[5, 6, 7, 8, 9, 10]"
      ]
     },
     "execution_count": 16,
     "metadata": {},
     "output_type": "execute_result"
    }
   ],
   "source": [
    "list(range(5,11))"
   ]
  },
  {
   "cell_type": "markdown",
   "id": "2bd1d5c5-c414-4e43-bc26-f7286cff61fe",
   "metadata": {},
   "source": [
    "- range(시작,끝,증가폭)"
   ]
  },
  {
   "cell_type": "code",
   "execution_count": 17,
   "id": "c6552170-ab5c-4311-83a3-ff72100bf815",
   "metadata": {},
   "outputs": [
    {
     "data": {
      "text/plain": [
       "[5, 7, 9]"
      ]
     },
     "execution_count": 17,
     "metadata": {},
     "output_type": "execute_result"
    }
   ],
   "source": [
    "list(range(5,11,2))"
   ]
  },
  {
   "cell_type": "markdown",
   "id": "cd61c659-893d-43c1-ac7b-05a7aec28735",
   "metadata": {},
   "source": [
    "## 튜플 (Tuple)\n",
    "- 튜플 = (값,값,값) 의 형태\n",
    "- 튜플도 리스트와 동일하게 모든 자료형의 값이 다 들어갈 수 있음\n",
    "    - 튜플은 값을 수정하거나 삭제하거나 변경이 불가능함\n",
    "    - 변경하지 않는 고정된 데이터를 보관할 때 사용"
   ]
  },
  {
   "cell_type": "code",
   "execution_count": 20,
   "id": "602afbf8-0aa7-4f91-8a93-2ac4b64e169c",
   "metadata": {},
   "outputs": [
    {
     "name": "stdout",
     "output_type": "stream",
     "text": [
      "(1, 2, 3)\n"
     ]
    }
   ],
   "source": [
    "c = 1,2,3\n",
    "print(c)"
   ]
  },
  {
   "cell_type": "code",
   "execution_count": 21,
   "id": "0dda85a6-0289-423d-82f8-ae8f1897240c",
   "metadata": {},
   "outputs": [
    {
     "name": "stdout",
     "output_type": "stream",
     "text": [
      "(1, 2, 3)\n"
     ]
    }
   ],
   "source": [
    "d = (1,2,3)\n",
    "print(d)"
   ]
  },
  {
   "cell_type": "markdown",
   "id": "3400bafe-6682-4c43-804a-d7873b57b276",
   "metadata": {},
   "source": [
    "- c와 d가 모두 동일한 튜플 형태로 출력"
   ]
  },
  {
   "cell_type": "code",
   "execution_count": 23,
   "id": "cd9158f2-03a6-4e34-87ed-f4cb3185557e",
   "metadata": {},
   "outputs": [
    {
     "name": "stdout",
     "output_type": "stream",
     "text": [
      "(0, 2, 4, 6, 8)\n"
     ]
    }
   ],
   "source": [
    "e = tuple(range(0,10,2))\n",
    "print(e)"
   ]
  },
  {
   "cell_type": "code",
   "execution_count": 26,
   "id": "54a2c5cc-c48e-4796-9e71-67f00f4d04fa",
   "metadata": {},
   "outputs": [
    {
     "name": "stdout",
     "output_type": "stream",
     "text": [
      "[0, 2, 4, 6, 8]\n"
     ]
    }
   ],
   "source": [
    "f = list(range(0,10,2))\n",
    "print(f)"
   ]
  },
  {
   "cell_type": "markdown",
   "id": "28d2f37f-1395-4a54-ad0d-365c3c41518c",
   "metadata": {},
   "source": [
    "- 리스트를 튜플로, 튜플을 리스트로 만들 수 있음"
   ]
  },
  {
   "cell_type": "code",
   "execution_count": 32,
   "id": "1fa535c7-5b32-4f41-a953-303f35ca8f7f",
   "metadata": {},
   "outputs": [
    {
     "name": "stdout",
     "output_type": "stream",
     "text": [
      "[0, 2, 4, 6, 8]\n"
     ]
    }
   ],
   "source": [
    "print(list(e))"
   ]
  },
  {
   "cell_type": "code",
   "execution_count": 33,
   "id": "03da2d9a-f973-474c-9172-37494f9b62b8",
   "metadata": {},
   "outputs": [
    {
     "name": "stdout",
     "output_type": "stream",
     "text": [
      "(0, 2, 4, 6, 8)\n"
     ]
    }
   ],
   "source": [
    "print(tuple(f))"
   ]
  },
  {
   "cell_type": "markdown",
   "id": "ac917794-482f-42cc-bad7-88f76abac682",
   "metadata": {},
   "source": [
    "- 리스트나 튜플내에 문자열을 넣을 경우\n",
    "  "
   ]
  },
  {
   "cell_type": "code",
   "execution_count": 34,
   "id": "885bd958-77f7-4073-9192-13a2389dc929",
   "metadata": {},
   "outputs": [
    {
     "name": "stdout",
     "output_type": "stream",
     "text": [
      "['a', 'b', 'c', 'd']\n"
     ]
    }
   ],
   "source": [
    "print(list('abcd'))"
   ]
  },
  {
   "cell_type": "code",
   "execution_count": 35,
   "id": "c2387d9d-11e8-4fb4-8850-bfd3c2c49a01",
   "metadata": {},
   "outputs": [
    {
     "name": "stdout",
     "output_type": "stream",
     "text": [
      "('a', 'b', 'c', 'd')\n"
     ]
    }
   ],
   "source": [
    "print(tuple('abcd'))"
   ]
  },
  {
   "cell_type": "markdown",
   "id": "60f22d47-f68e-4c94-8794-360f44d64c0c",
   "metadata": {},
   "source": [
    "## 시퀀스 자료형\n",
    "- 시퀀스 자료형은 연속적이라는 뜻 (값이 연속적으로 묶여져 있는 경우)\n",
    "- 리스트나 튜플 같이 값이 여러개가 존재하고 값의 순서가 생기는 것"
   ]
  },
  {
   "cell_type": "markdown",
   "id": "49cfa610-5d18-45d2-8f58-62757b8854a8",
   "metadata": {},
   "source": [
    "## len() 함수 (length)\n",
    "- 요소 개수를 세는 함수\n",
    "- len(시퀀스 객체)"
   ]
  },
  {
   "cell_type": "code",
   "execution_count": 36,
   "id": "f286ca98-a6e0-4ae7-a97b-c70e1fe651eb",
   "metadata": {},
   "outputs": [
    {
     "name": "stdout",
     "output_type": "stream",
     "text": [
      "2\n",
      "5\n"
     ]
    }
   ],
   "source": [
    "g = [1,2]\n",
    "h = [1,2,3,4,5]\n",
    "\n",
    "print(len(g))\n",
    "print(len(h))"
   ]
  },
  {
   "cell_type": "code",
   "execution_count": 37,
   "id": "66b03550-b2e5-4e8a-adf3-8b54885d08a3",
   "metadata": {},
   "outputs": [
    {
     "name": "stdout",
     "output_type": "stream",
     "text": [
      "5\n"
     ]
    }
   ],
   "source": [
    "print(len('abcde'))"
   ]
  },
  {
   "cell_type": "markdown",
   "id": "3731a523-3fc1-46cc-a0ea-d09b5092ad99",
   "metadata": {},
   "source": [
    "## 인덱스 (Index)\n",
    "- 시퀀스 자료들은 다양한 자료들이 있기 때문에 순서가 필요\n",
    "- 리스트안에서도 먼저 들어온 값과 나중에 들어온 값을 구분\n",
    "- python에서 리스트를 만들면서 스스로 순서를 카운팅하게 되고 값의 순서를 '인덱스'라고 함\n",
    "- 시퀀스객체[인덱스]"
   ]
  },
  {
   "cell_type": "code",
   "execution_count": 45,
   "id": "cee22049-fa16-41f6-9c35-8dbfacf97f83",
   "metadata": {},
   "outputs": [
    {
     "name": "stdout",
     "output_type": "stream",
     "text": [
      "10\n",
      "20\n",
      "30\n"
     ]
    }
   ],
   "source": [
    "i = [10,20,30]\n",
    "print(i[0])\n",
    "print(i[1])\n",
    "print(i[2])"
   ]
  },
  {
   "cell_type": "code",
   "execution_count": 46,
   "id": "f56e66ca-f99f-49ef-a979-53e4bd055f10",
   "metadata": {},
   "outputs": [
    {
     "name": "stdout",
     "output_type": "stream",
     "text": [
      "30\n",
      "20\n",
      "10\n"
     ]
    }
   ],
   "source": [
    "j = (30,20,10)\n",
    "print(j[0])\n",
    "print(j[1])\n",
    "print(j[2])"
   ]
  },
  {
   "cell_type": "markdown",
   "id": "fc3386f3-751f-46cc-b7c1-10e1f073618d",
   "metadata": {},
   "source": [
    "- 인덱스의 순서는 0,1,2,3 순서\n",
    "- 인덱스를 역수로 하면 맨 오른쪽 끝 값이 -1 부터 시작"
   ]
  },
  {
   "cell_type": "code",
   "execution_count": 47,
   "id": "c824851b-85e1-42ef-9d0d-d9836a0f0238",
   "metadata": {},
   "outputs": [
    {
     "name": "stdout",
     "output_type": "stream",
     "text": [
      "30\n",
      "10\n"
     ]
    }
   ],
   "source": [
    "print(i[-1])\n",
    "print(j[-1])"
   ]
  },
  {
   "cell_type": "markdown",
   "id": "8eb6d426-554c-435d-8019-ecfa1ba7c58c",
   "metadata": {},
   "source": [
    "- 인덱스를 이용하여 해당 인덱스의 값을 수정할 수 있음 (튜플은 수정 불가능)\n",
    "- 할당하는 값과 인덱스의 개수가 동일해야함"
   ]
  },
  {
   "cell_type": "code",
   "execution_count": 48,
   "id": "7f93a012-8b20-4a22-93e0-2435d4236fab",
   "metadata": {},
   "outputs": [
    {
     "name": "stdout",
     "output_type": "stream",
     "text": [
      "[100, 20, 30]\n"
     ]
    }
   ],
   "source": [
    "i[0] = 100\n",
    "print(i)"
   ]
  },
  {
   "cell_type": "code",
   "execution_count": 4,
   "id": "63c5f406-fd77-4528-9b88-5b04de0002c6",
   "metadata": {},
   "outputs": [
    {
     "name": "stdout",
     "output_type": "stream",
     "text": [
      "[100]\n"
     ]
    }
   ],
   "source": [
    "j = [0]*1\n",
    "j[0] = 100\n",
    "print(j)"
   ]
  },
  {
   "cell_type": "markdown",
   "id": "bb8cd488-032f-4937-aff0-88f77f7ca24f",
   "metadata": {},
   "source": [
    "## 인덱스를 기준으로 슬라이싱\n",
    "- range 함수와 동일\n",
    "- 시퀀스객체[시작인덱스:끝인덱스]"
   ]
  },
  {
   "cell_type": "code",
   "execution_count": 51,
   "id": "8adb1426-37ad-4781-8db7-ae1b1deb35f5",
   "metadata": {},
   "outputs": [],
   "source": [
    "k = list(range(100))"
   ]
  },
  {
   "cell_type": "code",
   "execution_count": 55,
   "id": "af3d0ea1-2fbf-4beb-9fe0-d3c623dd7398",
   "metadata": {},
   "outputs": [
    {
     "name": "stdout",
     "output_type": "stream",
     "text": [
      "[0, 1, 2, 3, 4, 5, 6, 7, 8, 9, 10, 11, 12, 13, 14, 15, 16, 17, 18, 19]\n"
     ]
    }
   ],
   "source": [
    "print(k[0:20])"
   ]
  },
  {
   "cell_type": "code",
   "execution_count": 56,
   "id": "d094421c-c000-4627-b4ac-062042e98269",
   "metadata": {},
   "outputs": [
    {
     "name": "stdout",
     "output_type": "stream",
     "text": [
      "[]\n"
     ]
    }
   ],
   "source": [
    "print(k[0:0])"
   ]
  },
  {
   "cell_type": "code",
   "execution_count": 59,
   "id": "e0504baa-c834-456b-ac18-0e87a4e55beb",
   "metadata": {},
   "outputs": [
    {
     "name": "stdout",
     "output_type": "stream",
     "text": [
      "99\n"
     ]
    }
   ],
   "source": [
    "print(k[-1])"
   ]
  },
  {
   "cell_type": "code",
   "execution_count": 60,
   "id": "dc9c4f08-28a5-47d3-95fa-cb6ad7ef93b9",
   "metadata": {},
   "outputs": [
    {
     "name": "stdout",
     "output_type": "stream",
     "text": [
      "[0, 1, 2, 3, 4, 5, 6, 7, 8, 9, 10, 11, 12, 13, 14, 15, 16, 17, 18, 19, 20, 21, 22, 23, 24, 25, 26, 27, 28, 29, 30, 31, 32, 33, 34, 35, 36, 37, 38, 39, 40, 41, 42, 43, 44, 45, 46, 47, 48, 49, 50, 51, 52, 53, 54, 55, 56, 57, 58, 59, 60, 61, 62, 63, 64, 65, 66, 67, 68, 69, 70, 71, 72, 73, 74, 75, 76, 77, 78, 79, 80, 81, 82, 83, 84, 85, 86, 87, 88, 89, 90, 91, 92, 93, 94, 95, 96, 97, 98]\n"
     ]
    }
   ],
   "source": [
    "print(k[0:-1])"
   ]
  },
  {
   "cell_type": "code",
   "execution_count": 61,
   "id": "8576f66e-dd6f-4cbe-9e14-a47d10d48168",
   "metadata": {},
   "outputs": [],
   "source": [
    "l = [100,200,300,400]"
   ]
  },
  {
   "cell_type": "code",
   "execution_count": 64,
   "id": "a97db54e-99f9-4ea8-be66-bed8564ec102",
   "metadata": {},
   "outputs": [
    {
     "name": "stdout",
     "output_type": "stream",
     "text": [
      "[300, 400]\n"
     ]
    }
   ],
   "source": [
    "del l[0:2]\n",
    "print(l)"
   ]
  },
  {
   "cell_type": "markdown",
   "id": "0bd95205-66d0-42ec-89eb-f9413f85df4f",
   "metadata": {},
   "source": [
    "## 예시"
   ]
  },
  {
   "cell_type": "code",
   "execution_count": 65,
   "id": "e135c145-6c84-4731-922f-118abe9ccf30",
   "metadata": {},
   "outputs": [],
   "source": [
    "import seaborn as sns\n",
    "tt = sns.load_dataset('titanic')"
   ]
  },
  {
   "cell_type": "code",
   "execution_count": 66,
   "id": "a37f6392-c29b-49cf-bb48-553534bb7695",
   "metadata": {},
   "outputs": [
    {
     "data": {
      "text/html": [
       "<div>\n",
       "<style scoped>\n",
       "    .dataframe tbody tr th:only-of-type {\n",
       "        vertical-align: middle;\n",
       "    }\n",
       "\n",
       "    .dataframe tbody tr th {\n",
       "        vertical-align: top;\n",
       "    }\n",
       "\n",
       "    .dataframe thead th {\n",
       "        text-align: right;\n",
       "    }\n",
       "</style>\n",
       "<table border=\"1\" class=\"dataframe\">\n",
       "  <thead>\n",
       "    <tr style=\"text-align: right;\">\n",
       "      <th></th>\n",
       "      <th>survived</th>\n",
       "      <th>pclass</th>\n",
       "      <th>sex</th>\n",
       "      <th>age</th>\n",
       "      <th>sibsp</th>\n",
       "      <th>parch</th>\n",
       "      <th>fare</th>\n",
       "      <th>embarked</th>\n",
       "      <th>class</th>\n",
       "      <th>who</th>\n",
       "      <th>adult_male</th>\n",
       "      <th>deck</th>\n",
       "      <th>embark_town</th>\n",
       "      <th>alive</th>\n",
       "      <th>alone</th>\n",
       "    </tr>\n",
       "  </thead>\n",
       "  <tbody>\n",
       "    <tr>\n",
       "      <th>0</th>\n",
       "      <td>0</td>\n",
       "      <td>3</td>\n",
       "      <td>male</td>\n",
       "      <td>22.0</td>\n",
       "      <td>1</td>\n",
       "      <td>0</td>\n",
       "      <td>7.2500</td>\n",
       "      <td>S</td>\n",
       "      <td>Third</td>\n",
       "      <td>man</td>\n",
       "      <td>True</td>\n",
       "      <td>NaN</td>\n",
       "      <td>Southampton</td>\n",
       "      <td>no</td>\n",
       "      <td>False</td>\n",
       "    </tr>\n",
       "    <tr>\n",
       "      <th>1</th>\n",
       "      <td>1</td>\n",
       "      <td>1</td>\n",
       "      <td>female</td>\n",
       "      <td>38.0</td>\n",
       "      <td>1</td>\n",
       "      <td>0</td>\n",
       "      <td>71.2833</td>\n",
       "      <td>C</td>\n",
       "      <td>First</td>\n",
       "      <td>woman</td>\n",
       "      <td>False</td>\n",
       "      <td>C</td>\n",
       "      <td>Cherbourg</td>\n",
       "      <td>yes</td>\n",
       "      <td>False</td>\n",
       "    </tr>\n",
       "    <tr>\n",
       "      <th>2</th>\n",
       "      <td>1</td>\n",
       "      <td>3</td>\n",
       "      <td>female</td>\n",
       "      <td>26.0</td>\n",
       "      <td>0</td>\n",
       "      <td>0</td>\n",
       "      <td>7.9250</td>\n",
       "      <td>S</td>\n",
       "      <td>Third</td>\n",
       "      <td>woman</td>\n",
       "      <td>False</td>\n",
       "      <td>NaN</td>\n",
       "      <td>Southampton</td>\n",
       "      <td>yes</td>\n",
       "      <td>True</td>\n",
       "    </tr>\n",
       "    <tr>\n",
       "      <th>3</th>\n",
       "      <td>1</td>\n",
       "      <td>1</td>\n",
       "      <td>female</td>\n",
       "      <td>35.0</td>\n",
       "      <td>1</td>\n",
       "      <td>0</td>\n",
       "      <td>53.1000</td>\n",
       "      <td>S</td>\n",
       "      <td>First</td>\n",
       "      <td>woman</td>\n",
       "      <td>False</td>\n",
       "      <td>C</td>\n",
       "      <td>Southampton</td>\n",
       "      <td>yes</td>\n",
       "      <td>False</td>\n",
       "    </tr>\n",
       "    <tr>\n",
       "      <th>4</th>\n",
       "      <td>0</td>\n",
       "      <td>3</td>\n",
       "      <td>male</td>\n",
       "      <td>35.0</td>\n",
       "      <td>0</td>\n",
       "      <td>0</td>\n",
       "      <td>8.0500</td>\n",
       "      <td>S</td>\n",
       "      <td>Third</td>\n",
       "      <td>man</td>\n",
       "      <td>True</td>\n",
       "      <td>NaN</td>\n",
       "      <td>Southampton</td>\n",
       "      <td>no</td>\n",
       "      <td>True</td>\n",
       "    </tr>\n",
       "    <tr>\n",
       "      <th>...</th>\n",
       "      <td>...</td>\n",
       "      <td>...</td>\n",
       "      <td>...</td>\n",
       "      <td>...</td>\n",
       "      <td>...</td>\n",
       "      <td>...</td>\n",
       "      <td>...</td>\n",
       "      <td>...</td>\n",
       "      <td>...</td>\n",
       "      <td>...</td>\n",
       "      <td>...</td>\n",
       "      <td>...</td>\n",
       "      <td>...</td>\n",
       "      <td>...</td>\n",
       "      <td>...</td>\n",
       "    </tr>\n",
       "    <tr>\n",
       "      <th>886</th>\n",
       "      <td>0</td>\n",
       "      <td>2</td>\n",
       "      <td>male</td>\n",
       "      <td>27.0</td>\n",
       "      <td>0</td>\n",
       "      <td>0</td>\n",
       "      <td>13.0000</td>\n",
       "      <td>S</td>\n",
       "      <td>Second</td>\n",
       "      <td>man</td>\n",
       "      <td>True</td>\n",
       "      <td>NaN</td>\n",
       "      <td>Southampton</td>\n",
       "      <td>no</td>\n",
       "      <td>True</td>\n",
       "    </tr>\n",
       "    <tr>\n",
       "      <th>887</th>\n",
       "      <td>1</td>\n",
       "      <td>1</td>\n",
       "      <td>female</td>\n",
       "      <td>19.0</td>\n",
       "      <td>0</td>\n",
       "      <td>0</td>\n",
       "      <td>30.0000</td>\n",
       "      <td>S</td>\n",
       "      <td>First</td>\n",
       "      <td>woman</td>\n",
       "      <td>False</td>\n",
       "      <td>B</td>\n",
       "      <td>Southampton</td>\n",
       "      <td>yes</td>\n",
       "      <td>True</td>\n",
       "    </tr>\n",
       "    <tr>\n",
       "      <th>888</th>\n",
       "      <td>0</td>\n",
       "      <td>3</td>\n",
       "      <td>female</td>\n",
       "      <td>NaN</td>\n",
       "      <td>1</td>\n",
       "      <td>2</td>\n",
       "      <td>23.4500</td>\n",
       "      <td>S</td>\n",
       "      <td>Third</td>\n",
       "      <td>woman</td>\n",
       "      <td>False</td>\n",
       "      <td>NaN</td>\n",
       "      <td>Southampton</td>\n",
       "      <td>no</td>\n",
       "      <td>False</td>\n",
       "    </tr>\n",
       "    <tr>\n",
       "      <th>889</th>\n",
       "      <td>1</td>\n",
       "      <td>1</td>\n",
       "      <td>male</td>\n",
       "      <td>26.0</td>\n",
       "      <td>0</td>\n",
       "      <td>0</td>\n",
       "      <td>30.0000</td>\n",
       "      <td>C</td>\n",
       "      <td>First</td>\n",
       "      <td>man</td>\n",
       "      <td>True</td>\n",
       "      <td>C</td>\n",
       "      <td>Cherbourg</td>\n",
       "      <td>yes</td>\n",
       "      <td>True</td>\n",
       "    </tr>\n",
       "    <tr>\n",
       "      <th>890</th>\n",
       "      <td>0</td>\n",
       "      <td>3</td>\n",
       "      <td>male</td>\n",
       "      <td>32.0</td>\n",
       "      <td>0</td>\n",
       "      <td>0</td>\n",
       "      <td>7.7500</td>\n",
       "      <td>Q</td>\n",
       "      <td>Third</td>\n",
       "      <td>man</td>\n",
       "      <td>True</td>\n",
       "      <td>NaN</td>\n",
       "      <td>Queenstown</td>\n",
       "      <td>no</td>\n",
       "      <td>True</td>\n",
       "    </tr>\n",
       "  </tbody>\n",
       "</table>\n",
       "<p>891 rows × 15 columns</p>\n",
       "</div>"
      ],
      "text/plain": [
       "     survived  pclass     sex   age  sibsp  parch     fare embarked   class  \\\n",
       "0           0       3    male  22.0      1      0   7.2500        S   Third   \n",
       "1           1       1  female  38.0      1      0  71.2833        C   First   \n",
       "2           1       3  female  26.0      0      0   7.9250        S   Third   \n",
       "3           1       1  female  35.0      1      0  53.1000        S   First   \n",
       "4           0       3    male  35.0      0      0   8.0500        S   Third   \n",
       "..        ...     ...     ...   ...    ...    ...      ...      ...     ...   \n",
       "886         0       2    male  27.0      0      0  13.0000        S  Second   \n",
       "887         1       1  female  19.0      0      0  30.0000        S   First   \n",
       "888         0       3  female   NaN      1      2  23.4500        S   Third   \n",
       "889         1       1    male  26.0      0      0  30.0000        C   First   \n",
       "890         0       3    male  32.0      0      0   7.7500        Q   Third   \n",
       "\n",
       "       who  adult_male deck  embark_town alive  alone  \n",
       "0      man        True  NaN  Southampton    no  False  \n",
       "1    woman       False    C    Cherbourg   yes  False  \n",
       "2    woman       False  NaN  Southampton   yes   True  \n",
       "3    woman       False    C  Southampton   yes  False  \n",
       "4      man        True  NaN  Southampton    no   True  \n",
       "..     ...         ...  ...          ...   ...    ...  \n",
       "886    man        True  NaN  Southampton    no   True  \n",
       "887  woman       False    B  Southampton   yes   True  \n",
       "888  woman       False  NaN  Southampton    no  False  \n",
       "889    man        True    C    Cherbourg   yes   True  \n",
       "890    man        True  NaN   Queenstown    no   True  \n",
       "\n",
       "[891 rows x 15 columns]"
      ]
     },
     "execution_count": 66,
     "metadata": {},
     "output_type": "execute_result"
    }
   ],
   "source": [
    "tt"
   ]
  },
  {
   "cell_type": "code",
   "execution_count": 75,
   "id": "8b8c6fa0-27ed-47e9-863b-0f01234bf0ca",
   "metadata": {},
   "outputs": [
    {
     "name": "stdout",
     "output_type": "stream",
     "text": [
      "    survived  pclass     sex   age  sibsp  parch     fare embarked  class  \\\n",
      "1          1       1  female  38.0      1      0  71.2833        C  First   \n",
      "3          1       1  female  35.0      1      0  53.1000        S  First   \n",
      "4          0       3    male  35.0      0      0   8.0500        S  Third   \n",
      "6          0       1    male  54.0      0      0  51.8625        S  First   \n",
      "11         1       1  female  58.0      0      0  26.5500        S  First   \n",
      "\n",
      "      who  adult_male deck  embark_town alive  alone  \n",
      "1   woman       False    C    Cherbourg   yes  False  \n",
      "3   woman       False    C  Southampton   yes  False  \n",
      "4     man        True  NaN  Southampton    no   True  \n",
      "6     man        True    E  Southampton    no   True  \n",
      "11  woman       False    C  Southampton   yes   True  \n"
     ]
    }
   ],
   "source": [
    "tt_30 = tt[tt['age'] >= 30]\n",
    "print(tt_30.head())"
   ]
  },
  {
   "cell_type": "code",
   "execution_count": null,
   "id": "6f5c1c2d-8f01-4a1c-be62-5903d20ad9e5",
   "metadata": {},
   "outputs": [],
   "source": [
    "print(tt_30)"
   ]
  },
  {
   "cell_type": "code",
   "execution_count": 76,
   "id": "c607a37f-1190-4195-8834-84f406206657",
   "metadata": {},
   "outputs": [
    {
     "name": "stdout",
     "output_type": "stream",
     "text": [
      "   survived  pclass   sex   age  sibsp  parch     fare embarked  class    who  \\\n",
      "0         0       3  male  22.0      1      0   7.2500        S  Third    man   \n",
      "4         0       3  male  35.0      0      0   8.0500        S  Third    man   \n",
      "5         0       3  male   NaN      0      0   8.4583        Q  Third    man   \n",
      "6         0       1  male  54.0      0      0  51.8625        S  First    man   \n",
      "7         0       3  male   2.0      3      1  21.0750        S  Third  child   \n",
      "\n",
      "   adult_male deck  embark_town alive  alone  \n",
      "0        True  NaN  Southampton    no  False  \n",
      "4        True  NaN  Southampton    no   True  \n",
      "5        True  NaN   Queenstown    no   True  \n",
      "6        True    E  Southampton    no   True  \n",
      "7       False  NaN  Southampton    no  False  \n"
     ]
    }
   ],
   "source": [
    "men = tt[tt['sex'] == 'male']\n",
    "print(men.head())"
   ]
  },
  {
   "cell_type": "code",
   "execution_count": null,
   "id": "8c7fa63c-8850-484e-906d-4ec0bc43d400",
   "metadata": {},
   "outputs": [],
   "source": []
  }
 ],
 "metadata": {
  "kernelspec": {
   "display_name": "Python 3 (ipykernel)",
   "language": "python",
   "name": "python3"
  },
  "language_info": {
   "codemirror_mode": {
    "name": "ipython",
    "version": 3
   },
   "file_extension": ".py",
   "mimetype": "text/x-python",
   "name": "python",
   "nbconvert_exporter": "python",
   "pygments_lexer": "ipython3",
   "version": "3.12.4"
  }
 },
 "nbformat": 4,
 "nbformat_minor": 5
}
